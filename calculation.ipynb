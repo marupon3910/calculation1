num1 = int(input('一つ目を入力'))
num2 = int(input('二つ目を入力'))
print(num1 * num2)
